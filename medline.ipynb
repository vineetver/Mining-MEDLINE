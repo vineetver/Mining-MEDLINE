{
 "cells": [
  {
   "cell_type": "markdown",
   "metadata": {},
   "source": [
    "# Mining MEDLINE with Python"
   ]
  },
  {
   "cell_type": "markdown",
   "metadata": {},
   "source": [
    "MEDLINE is a bibliographic database of life sciences and biomedical information. The United States National Library of Medicine (NLM) at the National Institutes of Health maintains the database as part of the Entrez information retrieval system. MEDLINE is the primary database for biomedical and life sciences journal articles. It contains over 27 million citations from more than 5,600 scientific journals. "
   ]
  },
  {
   "cell_type": "markdown",
   "metadata": {},
   "source": [
    "### Required library"
   ]
  },
  {
   "cell_type": "code",
   "execution_count": null,
   "metadata": {},
   "outputs": [],
   "source": [
    "#!pip install pymed"
   ]
  },
  {
   "cell_type": "code",
   "execution_count": 4,
   "metadata": {
    "collapsed": true
   },
   "outputs": [],
   "source": [
    "import pandas as pd\n",
    "from pymed import PubMed\n",
    "import numpy as np\n",
    "import re\n",
    "import matplotlib.pyplot as plt\n",
    "import seaborn as sns"
   ]
  },
  {
   "cell_type": "markdown",
   "metadata": {},
   "source": [
    "### Query to search for"
   ]
  },
  {
   "cell_type": "markdown",
   "metadata": {},
   "source": [
    "Articles/Titles with keywords Covid-19, Booster, mRNA, or Vaccine from 2019 to present"
   ]
  },
  {
   "cell_type": "code",
   "execution_count": 2,
   "metadata": {},
   "outputs": [],
   "source": [
    "query = 'Covid-19 OR Booster OR mRNA OR Vaccine AND 2019/01/01:2022/02/13[dp]'"
   ]
  },
  {
   "cell_type": "code",
   "execution_count": 2,
   "metadata": {
    "collapsed": false,
    "pycharm": {
     "name": "#%%\n"
    }
   },
   "outputs": [],
   "source": [
    "def get_data(query, max_results, file_name, sample_frac):\n",
    "    \"\"\"\n",
    "    This function takes a query and returns a dataframe with the results of the query.\n",
    "    param: \n",
    "        query: a string that is the query to be run on PubMed\n",
    "        max_results: an integer that is the maximum number of results to be returned\n",
    "        file_name: a string that is the name of the file to be saved\n",
    "        sample_frac: a float that is the fraction of the data to be sampled\n",
    "    return:\n",
    "        df: a dataframe with the results of the query\n",
    "    \"\"\"\n",
    "    pubmed = PubMed(tool=\"MyTool\", email=\"vineetver@hotmail.com\")\n",
    "    response = pubmed.query(query, max_results=max_results)\n",
    "\n",
    "    article_list = []\n",
    "    article_info = []\n",
    "\n",
    "    for article in response:\n",
    "        data = article.toDict()\n",
    "        article_list.append(data)\n",
    "\n",
    "    for article in article_list:\n",
    "        article_info.append({\n",
    "            u'title': article['title'],\n",
    "            u'abstract': article['abstract'],\n",
    "            u'Year': article['publication_date'],\n",
    "        })\n",
    "    \n",
    "    articles = pd.DataFrame.from_dict(article_info)\n",
    "    articles.dropna()\n",
    "    articles = articles.sample(frac=sample_frac)\n",
    "    articles.to_csv(file_name, index=False, header=True)\n"
   ]
  },
  {
   "cell_type": "code",
   "execution_count": 3,
   "metadata": {
    "collapsed": false,
    "pycharm": {
     "name": "#%%\n"
    }
   },
   "outputs": [],
   "source": [
    "get_data(query, max_results=100, file_name='example.csv', sample_frac=0.1)"
   ]
  },
  {
   "cell_type": "markdown",
   "metadata": {},
   "source": [
    "# Preprocessing\n",
    "'Covid-19', 'Booster', 'mRNA', 'Vaccine'"
   ]
  },
  {
   "cell_type": "code",
   "execution_count": 5,
   "metadata": {
    "collapsed": false,
    "pycharm": {
     "name": "#%%\n"
    }
   },
   "outputs": [
    {
     "name": "stdout",
     "output_type": "stream",
     "text": [
      "2019 contains 3862 articles\n",
      "2020 contains 9384 articles\n",
      "2021 contains 13244 articles\n",
      "2022 contains 1550 articles\n",
      "\n",
      "\n",
      "Covid-19 is present in 10148 titles and 13245 articles\n",
      "Booster is present in 37 titles and 205 articles\n",
      "mRNA is present in 675 titles and 5497 articles\n",
      "Vaccine is present in 1838 titles and 4708 articles\n"
     ]
    },
    {
     "data": {
      "text/html": [
       "<div>\n",
       "<style scoped>\n",
       "    .dataframe tbody tr th:only-of-type {\n",
       "        vertical-align: middle;\n",
       "    }\n",
       "\n",
       "    .dataframe tbody tr th {\n",
       "        vertical-align: top;\n",
       "    }\n",
       "\n",
       "    .dataframe thead th {\n",
       "        text-align: right;\n",
       "    }\n",
       "</style>\n",
       "<table border=\"1\" class=\"dataframe\">\n",
       "  <thead>\n",
       "    <tr style=\"text-align: right;\">\n",
       "      <th></th>\n",
       "      <th>title</th>\n",
       "      <th>abstract</th>\n",
       "      <th>Year</th>\n",
       "    </tr>\n",
       "  </thead>\n",
       "  <tbody>\n",
       "    <tr>\n",
       "      <th>1</th>\n",
       "      <td>COVID-19 Pneumonia: Three Thoracic Complicatio...</td>\n",
       "      <td>The most dreaded thoracic complications in pat...</td>\n",
       "      <td>2020</td>\n",
       "    </tr>\n",
       "    <tr>\n",
       "      <th>2</th>\n",
       "      <td>Epidemiological Features of the 2019 Novel Cor...</td>\n",
       "      <td>The fast-growing outbreak of the 2019 novel co...</td>\n",
       "      <td>2020</td>\n",
       "    </tr>\n",
       "    <tr>\n",
       "      <th>3</th>\n",
       "      <td>Impact of lockdown on COVID-19 epidemic in Île...</td>\n",
       "      <td>More than half of the global population is und...</td>\n",
       "      <td>2020</td>\n",
       "    </tr>\n",
       "    <tr>\n",
       "      <th>4</th>\n",
       "      <td>Nanomedicines for brain diseases: where we are...</td>\n",
       "      <td>Graphical abstract [Formula: see text].</td>\n",
       "      <td>2021</td>\n",
       "    </tr>\n",
       "    <tr>\n",
       "      <th>6</th>\n",
       "      <td>Localized surface plasmon resonance aptasensor...</td>\n",
       "      <td>In this work, we designed and developed a meth...</td>\n",
       "      <td>2021</td>\n",
       "    </tr>\n",
       "  </tbody>\n",
       "</table>\n",
       "</div>"
      ],
      "text/plain": [
       "                                               title  \\\n",
       "1  COVID-19 Pneumonia: Three Thoracic Complicatio...   \n",
       "2  Epidemiological Features of the 2019 Novel Cor...   \n",
       "3  Impact of lockdown on COVID-19 epidemic in Île...   \n",
       "4  Nanomedicines for brain diseases: where we are...   \n",
       "6  Localized surface plasmon resonance aptasensor...   \n",
       "\n",
       "                                            abstract  Year  \n",
       "1  The most dreaded thoracic complications in pat...  2020  \n",
       "2  The fast-growing outbreak of the 2019 novel co...  2020  \n",
       "3  More than half of the global population is und...  2020  \n",
       "4            Graphical abstract [Formula: see text].  2021  \n",
       "6  In this work, we designed and developed a meth...  2021  "
      ]
     },
     "execution_count": 5,
     "metadata": {},
     "output_type": "execute_result"
    }
   ],
   "source": [
    "keywords = ['Covid-19', 'Booster', 'mRNA', 'Vaccine']\n",
    "df = pd.read_csv('data.csv')\n",
    "\n",
    "try:                 \n",
    "    df['Year'] = pd.to_datetime(df['Year'])     ## convert column 'Year' to datetime\n",
    "    df['Year'] = df['Year'].dt.year             ## extract year from datetime\n",
    "    df = df.dropna()                            ## drop rows with nan values\n",
    "    df = df[df['Year'] > 2018]                  ## drop articles published before 2019\n",
    "    for date in [2019, 2020, 2021, 2022]:       \n",
    "        print(f'{date} contains {df[df[\"Year\"] == date][\"title\"].count()} articles') \n",
    "         \n",
    "    print('\\n')\n",
    "    for keyword in keywords:\n",
    "        print(f'{keyword} is present in {df[df[\"title\"].str.contains(keyword, flags=re.IGNORECASE)][\"title\"].count()} titles and {df[df[\"abstract\"].str.contains(keyword, flags=re.IGNORECASE)][\"abstract\"].count()} articles')\n",
    "\n",
    "except:\n",
    "    print('Please run get_data() first')\n",
    "\n",
    "df.head()"
   ]
  },
  {
   "cell_type": "markdown",
   "metadata": {},
   "source": [
    "### Visualization"
   ]
  },
  {
   "cell_type": "code",
   "execution_count": 6,
   "metadata": {},
   "outputs": [],
   "source": [
    "## make a column for each keyword and label it 1 if keyword is present in title or abstract else label it 0\n",
    "for keyword in keywords:\n",
    "        df[keyword] = df['title'].str.contains(keyword, flags=re.IGNORECASE) | df['abstract'].str.contains(keyword, flags=re.IGNORECASE)\n",
    "        df[keyword] = df[keyword].astype(int)"
   ]
  },
  {
   "cell_type": "code",
   "execution_count": 7,
   "metadata": {},
   "outputs": [
    {
     "data": {
      "text/html": [
       "<div>\n",
       "<style scoped>\n",
       "    .dataframe tbody tr th:only-of-type {\n",
       "        vertical-align: middle;\n",
       "    }\n",
       "\n",
       "    .dataframe tbody tr th {\n",
       "        vertical-align: top;\n",
       "    }\n",
       "\n",
       "    .dataframe thead th {\n",
       "        text-align: right;\n",
       "    }\n",
       "</style>\n",
       "<table border=\"1\" class=\"dataframe\">\n",
       "  <thead>\n",
       "    <tr style=\"text-align: right;\">\n",
       "      <th></th>\n",
       "      <th>Year</th>\n",
       "      <th>Covid-19</th>\n",
       "      <th>Booster</th>\n",
       "      <th>mRNA</th>\n",
       "      <th>Vaccine</th>\n",
       "    </tr>\n",
       "  </thead>\n",
       "  <tbody>\n",
       "    <tr>\n",
       "      <th>0</th>\n",
       "      <td>2019</td>\n",
       "      <td>0</td>\n",
       "      <td>42</td>\n",
       "      <td>1704</td>\n",
       "      <td>1017</td>\n",
       "    </tr>\n",
       "    <tr>\n",
       "      <th>1</th>\n",
       "      <td>2020</td>\n",
       "      <td>4692</td>\n",
       "      <td>50</td>\n",
       "      <td>1749</td>\n",
       "      <td>1443</td>\n",
       "    </tr>\n",
       "    <tr>\n",
       "      <th>2</th>\n",
       "      <td>2021</td>\n",
       "      <td>8220</td>\n",
       "      <td>95</td>\n",
       "      <td>1917</td>\n",
       "      <td>2064</td>\n",
       "    </tr>\n",
       "    <tr>\n",
       "      <th>3</th>\n",
       "      <td>2022</td>\n",
       "      <td>985</td>\n",
       "      <td>27</td>\n",
       "      <td>239</td>\n",
       "      <td>301</td>\n",
       "    </tr>\n",
       "  </tbody>\n",
       "</table>\n",
       "</div>"
      ],
      "text/plain": [
       "   Year  Covid-19  Booster  mRNA  Vaccine\n",
       "0  2019         0       42  1704     1017\n",
       "1  2020      4692       50  1749     1443\n",
       "2  2021      8220       95  1917     2064\n",
       "3  2022       985       27   239      301"
      ]
     },
     "execution_count": 7,
     "metadata": {},
     "output_type": "execute_result"
    }
   ],
   "source": [
    "## Count the number of articles for each keyword for every year\n",
    "df_grouped = df.groupby('Year')[['Covid-19', 'Booster', 'mRNA', 'Vaccine']].agg(np.sum)\n",
    "df_grouped.reset_index(['Year'], inplace=True)\n",
    "df_grouped.head()"
   ]
  },
  {
   "cell_type": "code",
   "execution_count": 10,
   "metadata": {},
   "outputs": [
    {
     "data": {
      "image/png": "[encoded data removed]",
      "text/plain": [
       "<Figure size 540x360 with 1 Axes>"
      ]
     },
     "metadata": {
      "needs_background": "light"
     },
     "output_type": "display_data"
    },
    {
     "data": {
      "image/png": "[encoded data removed]",
      "text/plain": [
       "<Figure size 540x360 with 1 Axes>"
      ]
     },
     "metadata": {
      "needs_background": "light"
     },
     "output_type": "display_data"
    },
    {
     "data": {
      "image/png": "[encoded data removed]",
      "text/plain": [
       "<Figure size 540x360 with 1 Axes>"
      ]
     },
     "metadata": {
      "needs_background": "light"
     },
     "output_type": "display_data"
    },
    {
     "data": {
      "image/png": "[encoded data removed]",
      "text/plain": [
       "<Figure size 540x360 with 1 Axes>"
      ]
     },
     "metadata": {
      "needs_background": "light"
     },
     "output_type": "display_data"
    }
   ],
   "source": [
    "for keyword in keywords:\n",
    "    sns.pairplot(df_grouped, x_vars=['Year'], y_vars=[keyword], height=5, aspect=1.5, kind='reg')\n",
    "    plt.title(f'{keyword} density plot based on years')\n",
    "    plt.xlabel('Year')\n",
    "    plt.ylabel('Density')\n",
    "    plt.show()\n"
   ]
  },
  {
   "cell_type": "markdown",
   "metadata": {},
   "source": [
    "If we observe the above plots, Vaccine and booster have similar distributions."
   ]
  },
  {
   "cell_type": "markdown",
   "metadata": {},
   "source": [
    "#### Mining Keywords 'Obesity' and 'Cancer'\n",
    "\n"
   ]
  },
  {
   "cell_type": "code",
   "execution_count": 7,
   "metadata": {
    "collapsed": false,
    "pycharm": {
     "name": "#%%\n"
    }
   },
   "outputs": [],
   "source": [
    "query = '((Obesity[Title/Abstract]) OR (Cancer[Title/Abstract])) AND ((\"2019/01/01\"[Date - Create] : \"3000\"[Date - Create]))'"
   ]
  },
  {
   "cell_type": "code",
   "execution_count": 8,
   "metadata": {
    "collapsed": false,
    "pycharm": {
     "name": "#%%\n"
    }
   },
   "outputs": [
    {
     "ename": "NameError",
     "evalue": "name 'get_data' is not defined",
     "output_type": "error",
     "traceback": [
      "\u001b[0;31m---------------------------------------------------------------------------\u001b[0m",
      "\u001b[0;31mNameError\u001b[0m                                 Traceback (most recent call last)",
      "\u001b[0;32m<ipython-input-8-4e3ab7157bee>\u001b[0m in \u001b[0;36m<module>\u001b[0;34m\u001b[0m\n\u001b[0;32m----> 1\u001b[0;31m \u001b[0mget_data\u001b[0m\u001b[0;34m(\u001b[0m\u001b[0mquery\u001b[0m\u001b[0;34m,\u001b[0m \u001b[0mmax_results\u001b[0m\u001b[0;34m=\u001b[0m\u001b[0;36m279000\u001b[0m\u001b[0;34m,\u001b[0m \u001b[0mfile_name\u001b[0m\u001b[0;34m=\u001b[0m\u001b[0;34m'data2.csv'\u001b[0m\u001b[0;34m,\u001b[0m \u001b[0msample_frac\u001b[0m\u001b[0;34m=\u001b[0m\u001b[0;36m1\u001b[0m\u001b[0;34m)\u001b[0m\u001b[0;34m\u001b[0m\u001b[0;34m\u001b[0m\u001b[0m\n\u001b[0m",
      "\u001b[0;31mNameError\u001b[0m: name 'get_data' is not defined"
     ]
    }
   ],
   "source": [
    "get_data(query, max_results=100, file_name='data2.csv', sample_frac=1)"
   ]
  },
  {
   "cell_type": "markdown",
   "metadata": {},
   "source": [
    "### Preprocessing"
   ]
  },
  {
   "cell_type": "code",
   "execution_count": 11,
   "metadata": {},
   "outputs": [
    {
     "name": "stdout",
     "output_type": "stream",
     "text": [
      "2019 contains 27 articles\n",
      "2020 contains 80837 articles\n",
      "2021 contains 155112 articles\n",
      "2022 contains 19251 articles\n",
      "\n",
      "\n",
      "Obesity is present in 9686 titles and 31112 articles\n",
      "Cancer is present in 117546 titles and 197244 articles\n"
     ]
    },
    {
     "data": {
      "text/html": [
       "<div>\n",
       "<style scoped>\n",
       "    .dataframe tbody tr th:only-of-type {\n",
       "        vertical-align: middle;\n",
       "    }\n",
       "\n",
       "    .dataframe tbody tr th {\n",
       "        vertical-align: top;\n",
       "    }\n",
       "\n",
       "    .dataframe thead th {\n",
       "        text-align: right;\n",
       "    }\n",
       "</style>\n",
       "<table border=\"1\" class=\"dataframe\">\n",
       "  <thead>\n",
       "    <tr style=\"text-align: right;\">\n",
       "      <th></th>\n",
       "      <th>title</th>\n",
       "      <th>abstract</th>\n",
       "      <th>Year</th>\n",
       "    </tr>\n",
       "  </thead>\n",
       "  <tbody>\n",
       "    <tr>\n",
       "      <th>0</th>\n",
       "      <td>Ultrasound Imaging Morphology is Associated wi...</td>\n",
       "      <td>Ultrasound (US) is commonly used for diagnosti...</td>\n",
       "      <td>2021</td>\n",
       "    </tr>\n",
       "    <tr>\n",
       "      <th>1</th>\n",
       "      <td>Yes-associated protein gene overexpression reg...</td>\n",
       "      <td>Yes-associated protein (YAP) has been reported...</td>\n",
       "      <td>2022</td>\n",
       "    </tr>\n",
       "    <tr>\n",
       "      <th>2</th>\n",
       "      <td>The tumor microenvironment in pancreatic ducta...</td>\n",
       "      <td>Pancreatic ductal adenocarcinoma (PDAC) is amo...</td>\n",
       "      <td>2021</td>\n",
       "    </tr>\n",
       "    <tr>\n",
       "      <th>3</th>\n",
       "      <td>CAR T-cell therapy for pleural mesothelioma: R...</td>\n",
       "      <td>The aim of adoptive T-cell therapy is to promo...</td>\n",
       "      <td>2021</td>\n",
       "    </tr>\n",
       "    <tr>\n",
       "      <th>5</th>\n",
       "      <td>MCL-1 gains occur with high frequency in lung ...</td>\n",
       "      <td>Evasion of programmed cell death represents a ...</td>\n",
       "      <td>2020</td>\n",
       "    </tr>\n",
       "  </tbody>\n",
       "</table>\n",
       "</div>"
      ],
      "text/plain": [
       "                                               title  \\\n",
       "0  Ultrasound Imaging Morphology is Associated wi...   \n",
       "1  Yes-associated protein gene overexpression reg...   \n",
       "2  The tumor microenvironment in pancreatic ducta...   \n",
       "3  CAR T-cell therapy for pleural mesothelioma: R...   \n",
       "5  MCL-1 gains occur with high frequency in lung ...   \n",
       "\n",
       "                                            abstract  Year  \n",
       "0  Ultrasound (US) is commonly used for diagnosti...  2021  \n",
       "1  Yes-associated protein (YAP) has been reported...  2022  \n",
       "2  Pancreatic ductal adenocarcinoma (PDAC) is amo...  2021  \n",
       "3  The aim of adoptive T-cell therapy is to promo...  2021  \n",
       "5  Evasion of programmed cell death represents a ...  2020  "
      ]
     },
     "execution_count": 11,
     "metadata": {},
     "output_type": "execute_result"
    }
   ],
   "source": [
    "keywords = ['Obesity', 'Cancer']\n",
    "df = pd.read_csv('data2.csv')\n",
    "\n",
    "try:                 \n",
    "    df['Year'] = pd.to_datetime(df['Year'])     ## convert column 'Year' to datetime\n",
    "    df['Year'] = df['Year'].dt.year             ## extract year from datetime\n",
    "    df = df.dropna()                            ## drop rows with nan values\n",
    "    df = df[df['Year'] > 2018]                  ## drop articles published before 2019\n",
    "    for date in [2019, 2020, 2021, 2022]:       \n",
    "        print(f'{date} contains {df[df[\"Year\"] == date][\"title\"].count()} articles') \n",
    "         \n",
    "    print('\\n')\n",
    "    for keyword in keywords:\n",
    "        print(f'{keyword} is present in {df[df[\"title\"].str.contains(keyword, flags=re.IGNORECASE)][\"title\"].count()} titles and {df[df[\"abstract\"].str.contains(keyword, flags=re.IGNORECASE)][\"abstract\"].count()} articles')\n",
    "except:\n",
    "    print('Please run get_data() first')\n",
    "\n",
    "df.head()"
   ]
  },
  {
   "cell_type": "code",
   "execution_count": 12,
   "metadata": {},
   "outputs": [
    {
     "data": {
      "text/html": [
       "<div>\n",
       "<style scoped>\n",
       "    .dataframe tbody tr th:only-of-type {\n",
       "        vertical-align: middle;\n",
       "    }\n",
       "\n",
       "    .dataframe tbody tr th {\n",
       "        vertical-align: top;\n",
       "    }\n",
       "\n",
       "    .dataframe thead th {\n",
       "        text-align: right;\n",
       "    }\n",
       "</style>\n",
       "<table border=\"1\" class=\"dataframe\">\n",
       "  <thead>\n",
       "    <tr style=\"text-align: right;\">\n",
       "      <th></th>\n",
       "      <th>title</th>\n",
       "      <th>abstract</th>\n",
       "      <th>Year</th>\n",
       "      <th>Obesity</th>\n",
       "      <th>Cancer</th>\n",
       "    </tr>\n",
       "  </thead>\n",
       "  <tbody>\n",
       "    <tr>\n",
       "      <th>0</th>\n",
       "      <td>Ultrasound Imaging Morphology is Associated wi...</td>\n",
       "      <td>Ultrasound (US) is commonly used for diagnosti...</td>\n",
       "      <td>2021</td>\n",
       "      <td>0</td>\n",
       "      <td>1</td>\n",
       "    </tr>\n",
       "    <tr>\n",
       "      <th>1</th>\n",
       "      <td>Yes-associated protein gene overexpression reg...</td>\n",
       "      <td>Yes-associated protein (YAP) has been reported...</td>\n",
       "      <td>2022</td>\n",
       "      <td>0</td>\n",
       "      <td>1</td>\n",
       "    </tr>\n",
       "    <tr>\n",
       "      <th>2</th>\n",
       "      <td>The tumor microenvironment in pancreatic ducta...</td>\n",
       "      <td>Pancreatic ductal adenocarcinoma (PDAC) is amo...</td>\n",
       "      <td>2021</td>\n",
       "      <td>0</td>\n",
       "      <td>1</td>\n",
       "    </tr>\n",
       "    <tr>\n",
       "      <th>3</th>\n",
       "      <td>CAR T-cell therapy for pleural mesothelioma: R...</td>\n",
       "      <td>The aim of adoptive T-cell therapy is to promo...</td>\n",
       "      <td>2021</td>\n",
       "      <td>0</td>\n",
       "      <td>1</td>\n",
       "    </tr>\n",
       "    <tr>\n",
       "      <th>5</th>\n",
       "      <td>MCL-1 gains occur with high frequency in lung ...</td>\n",
       "      <td>Evasion of programmed cell death represents a ...</td>\n",
       "      <td>2020</td>\n",
       "      <td>0</td>\n",
       "      <td>1</td>\n",
       "    </tr>\n",
       "  </tbody>\n",
       "</table>\n",
       "</div>"
      ],
      "text/plain": [
       "                                               title  \\\n",
       "0  Ultrasound Imaging Morphology is Associated wi...   \n",
       "1  Yes-associated protein gene overexpression reg...   \n",
       "2  The tumor microenvironment in pancreatic ducta...   \n",
       "3  CAR T-cell therapy for pleural mesothelioma: R...   \n",
       "5  MCL-1 gains occur with high frequency in lung ...   \n",
       "\n",
       "                                            abstract  Year  Obesity  Cancer  \n",
       "0  Ultrasound (US) is commonly used for diagnosti...  2021        0       1  \n",
       "1  Yes-associated protein (YAP) has been reported...  2022        0       1  \n",
       "2  Pancreatic ductal adenocarcinoma (PDAC) is amo...  2021        0       1  \n",
       "3  The aim of adoptive T-cell therapy is to promo...  2021        0       1  \n",
       "5  Evasion of programmed cell death represents a ...  2020        0       1  "
      ]
     },
     "execution_count": 12,
     "metadata": {},
     "output_type": "execute_result"
    }
   ],
   "source": [
    "## make a column for each keyword and label it 1 if keyword is present in title or abstract else label it 0\n",
    "for keyword in keywords:\n",
    "        df[keyword] = df['title'].str.contains(keyword, flags=re.IGNORECASE) | df['abstract'].str.contains(keyword, flags=re.IGNORECASE)\n",
    "        df[keyword] = df[keyword].astype(int)\n",
    "\n",
    "df.head()"
   ]
  },
  {
   "cell_type": "code",
   "execution_count": 13,
   "metadata": {},
   "outputs": [
    {
     "data": {
      "text/html": [
       "<div>\n",
       "<style scoped>\n",
       "    .dataframe tbody tr th:only-of-type {\n",
       "        vertical-align: middle;\n",
       "    }\n",
       "\n",
       "    .dataframe tbody tr th {\n",
       "        vertical-align: top;\n",
       "    }\n",
       "\n",
       "    .dataframe thead th {\n",
       "        text-align: right;\n",
       "    }\n",
       "</style>\n",
       "<table border=\"1\" class=\"dataframe\">\n",
       "  <thead>\n",
       "    <tr style=\"text-align: right;\">\n",
       "      <th></th>\n",
       "      <th>Year</th>\n",
       "      <th>Obesity</th>\n",
       "      <th>Cancer</th>\n",
       "    </tr>\n",
       "  </thead>\n",
       "  <tbody>\n",
       "    <tr>\n",
       "      <th>0</th>\n",
       "      <td>2019</td>\n",
       "      <td>1</td>\n",
       "      <td>24</td>\n",
       "    </tr>\n",
       "    <tr>\n",
       "      <th>1</th>\n",
       "      <td>2020</td>\n",
       "      <td>10239</td>\n",
       "      <td>64870</td>\n",
       "    </tr>\n",
       "    <tr>\n",
       "      <th>2</th>\n",
       "      <td>2021</td>\n",
       "      <td>19273</td>\n",
       "      <td>124754</td>\n",
       "    </tr>\n",
       "    <tr>\n",
       "      <th>3</th>\n",
       "      <td>2022</td>\n",
       "      <td>2316</td>\n",
       "      <td>15560</td>\n",
       "    </tr>\n",
       "  </tbody>\n",
       "</table>\n",
       "</div>"
      ],
      "text/plain": [
       "   Year  Obesity  Cancer\n",
       "0  2019        1      24\n",
       "1  2020    10239   64870\n",
       "2  2021    19273  124754\n",
       "3  2022     2316   15560"
      ]
     },
     "execution_count": 13,
     "metadata": {},
     "output_type": "execute_result"
    }
   ],
   "source": [
    "df_grouped = df.groupby('Year')[['Obesity', 'Cancer']].agg(np.sum)\n",
    "df_grouped.reset_index(['Year'], inplace=True)\n",
    "df_grouped.head()"
   ]
  },
  {
   "cell_type": "code",
   "execution_count": 14,
   "metadata": {},
   "outputs": [
    {
     "data": {
      "image/png": "[encoded data removed]",
      "text/plain": [
       "<Figure size 540x360 with 1 Axes>"
      ]
     },
     "metadata": {
      "needs_background": "light"
     },
     "output_type": "display_data"
    },
    {
     "data": {
      "image/png": "[encoded data removed]",
      "text/plain": [
       "<Figure size 540x360 with 1 Axes>"
      ]
     },
     "metadata": {
      "needs_background": "light"
     },
     "output_type": "display_data"
    }
   ],
   "source": [
    "for keyword in keywords:\n",
    "    sns.pairplot(df_grouped, x_vars=['Year'], y_vars=[keyword], height=5, aspect=1.5, kind='reg')\n",
    "    plt.title(f'{keyword} density plot based on years')\n",
    "    plt.xlabel('Year')\n",
    "    plt.ylabel('Density')\n",
    "    plt.show()"
   ]
  },
  {
   "cell_type": "markdown",
   "metadata": {},
   "source": [
    "They have similar distribution"
   ]
  },
  {
   "cell_type": "markdown",
   "metadata": {},
   "source": [
    "## Statistical Testing"
   ]
  },
  {
   "cell_type": "markdown",
   "metadata": {},
   "source": [
    "### Student T\n",
    "H0: the means of the samples are equal. <br>\n",
    "H1: the means of the samples are unequal."
   ]
  },
  {
   "cell_type": "code",
   "execution_count": 13,
   "metadata": {
    "collapsed": false,
    "pycharm": {
     "name": "#%%\n"
    }
   },
   "outputs": [
    {
     "name": "stdout",
     "output_type": "stream",
     "text": [
      "Stats = -1.52, p_value = 0.178\n",
      "The means of the samples are equal\n"
     ]
    }
   ],
   "source": [
    "import scipy.stats as stats\n",
    "\n",
    "stat, p = stats.ttest_ind(df_grouped['Obesity'], df_grouped['Cancer'])\n",
    "\n",
    "print(f'Stats = {stat:.3}, p_value = {p:.3}')\n",
    "if p > 0.05:\n",
    "\tprint('The means of the samples are equal')\n",
    "else:\n",
    "\tprint('The means of the samples are not equal')"
   ]
  },
  {
   "cell_type": "markdown",
   "metadata": {},
   "source": [
    "Student T assumes that the variables are normally distributed."
   ]
  },
  {
   "cell_type": "markdown",
   "metadata": {},
   "source": [
    "## Kruskal-Wallis H Test\n",
    "\n",
    "H0: The distributions of the samples are equal. <br>\n",
    "H1: the distributions of the samples are unequal."
   ]
  },
  {
   "cell_type": "code",
   "execution_count": 52,
   "metadata": {},
   "outputs": [
    {
     "name": "stdout",
     "output_type": "stream",
     "text": [
      "Stats = 1.33, p_value = 0.248\n",
      "The distributions of the samples are equal\n"
     ]
    }
   ],
   "source": [
    "stat, p  = stats.kruskal(df_grouped['Obesity'], df_grouped['Cancer'])\n",
    "\n",
    "print(f'Stats = {stat:.3}, p_value = {p:.3}')\n",
    "if p > 0.05:\n",
    "\tprint('The distributions of the samples are equal')\n",
    "else:\n",
    "\tprint('The distributions of the samples are not equal')"
   ]
  },
  {
   "cell_type": "markdown",
   "metadata": {},
   "source": [
    "## Mann-Whitney U Test\n",
    "\n",
    "H0: The distributions of the samples are equal. <br>\n",
    "H1: the distributions of the samples are unequal.\n"
   ]
  },
  {
   "cell_type": "code",
   "execution_count": 54,
   "metadata": {},
   "outputs": [
    {
     "name": "stdout",
     "output_type": "stream",
     "text": [
      "Stats = 4.0, p_value = 0.343\n",
      "The distributions of the samples are equal\n"
     ]
    }
   ],
   "source": [
    "stat, p = stats.mannwhitneyu(df_grouped['Obesity'], df_grouped['Cancer'])\n",
    "\n",
    "print(f'Stats = {stat:.3}, p_value = {p:.3}')\n",
    "if p > 0.05:\n",
    "    print('The distributions of the samples are equal')\n",
    "else:\n",
    "    print('The distributions of the samples are not equal')"
   ]
  },
  {
   "cell_type": "markdown",
   "metadata": {},
   "source": [
    "Non-parametric tests confirm that the variables have the same distribution."
   ]
  },
  {
   "cell_type": "markdown",
   "metadata": {},
   "source": [
    "## Effect size (Cohan's d)"
   ]
  },
  {
   "cell_type": "code",
   "execution_count": 59,
   "metadata": {},
   "outputs": [
    {
     "data": {
      "text/plain": [
       "-1.243853638263998"
      ]
     },
     "execution_count": 59,
     "metadata": {},
     "output_type": "execute_result"
    }
   ],
   "source": [
    "def cohen_d(x,y):\n",
    "        cohens_d = (np.mean(x) - np.mean(y)) / (np.sqrt((np.std(x) ** 2 + np.std(y) ** 2) / 2))\n",
    "        return cohens_d\n",
    "\n",
    "cohen_d(df_grouped['Obesity'], df_grouped['Cancer'])"
   ]
  },
  {
   "cell_type": "markdown",
   "metadata": {},
   "source": [
    "Here, the sign of cohen's d effect tells the direction of effect. But a effect size of 0.9+ indicates very large effect size. So, the two variables are strongly related."
   ]
  },
  {
   "cell_type": "markdown",
   "metadata": {},
   "source": [
    "## Correlation Test (Pearson, Spearman, KendallTau)"
   ]
  },
  {
   "cell_type": "code",
   "execution_count": 66,
   "metadata": {},
   "outputs": [
    {
     "name": "stdout",
     "output_type": "stream",
     "text": [
      "Correlation between Obesity and Cancer by Pearsonr: 0.9999\n",
      "Correlation between Obesity and Cancer by Spearmanr: 1.0\n",
      "Correlation between Obesity and Cancer by Kendall: 1.0\n"
     ]
    }
   ],
   "source": [
    "pearsonr = stats.pearsonr(df_grouped['Obesity'], df_grouped['Cancer'])\n",
    "print(f'Correlation between Obesity and Cancer by Pearsonr: {pearsonr[0]:.4}')\n",
    "\n",
    "spearman = stats.spearmanr(df_grouped['Obesity'], df_grouped['Cancer'])\n",
    "print(f'Correlation between Obesity and Cancer by Spearmanr: {spearman[0]:.4}')\n",
    "\n",
    "kandall = stats.kendalltau(df_grouped['Obesity'], df_grouped['Cancer'])\n",
    "print(f'Correlation between Obesity and Cancer by Kendall: {kandall[0]:.4}')"
   ]
  },
  {
   "cell_type": "markdown",
   "metadata": {},
   "source": [
    "The correlation test confirms our finding, and we can conclude that Obesity and Cancer have an almost perfect correlation."
   ]
  }
 ],
 "metadata": {
  "kernelspec": {
   "display_name": "Python 3",
   "language": "python",
   "name": "python3"
  },
  "language_info": {
   "codemirror_mode": {
    "name": "ipython",
    "version": 3
   },
   "file_extension": ".py",
   "mimetype": "text/x-python",
   "name": "python",
   "nbconvert_exporter": "python",
   "pygments_lexer": "ipython3",
   "version": "3.8.12"
  }
 },
 "nbformat": 4,
 "nbformat_minor": 0
}
